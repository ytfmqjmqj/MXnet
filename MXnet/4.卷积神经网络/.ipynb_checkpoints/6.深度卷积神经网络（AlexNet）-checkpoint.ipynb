{
 "cells": [
  {
   "cell_type": "markdown",
   "metadata": {},
   "source": [
    "## 1.AlexNet"
   ]
  },
  {
   "cell_type": "code",
   "execution_count": 8,
   "metadata": {},
   "outputs": [],
   "source": [
    "import gluonbook as gb\n",
    "from mxnet import gluon, init, nd\n",
    "from mxnet.gluon import data as gdata, nn\n",
    "import os\n",
    "import sys"
   ]
  },
  {
   "cell_type": "code",
   "execution_count": 9,
   "metadata": {},
   "outputs": [],
   "source": [
    "net = nn.Sequential()\n",
    "# 使用较大的11 x 11窗口来捕获物体，同时使用步幅4来较大减小输出高和宽\n",
    "# 这里使用的输入通道数比LeNet中的也要大很多\n",
    "net.add(nn.Conv2D(96, kernel_size = 11, strides = 4, activation = 'relu'),\n",
    "       nn.MaxPool2D(pool_size = 3, strides = 2),\n",
    "       # 减小卷积窗口，使用填充为2来使得输入输出高宽一致，且增大输出通道数\n",
    "       nn.Conv2D(256, kernel_size = 5, padding = 2, activation = 'relu'),\n",
    "       nn.MaxPool2D(pool_size = 3, strides = 2),\n",
    "       # 连续三个卷积层，且使用更小的卷积窗口。除了最后的卷积层外，进一步增大了输出通道数\n",
    "       # 前两个卷积层后不使用池化层来减小输入的高和宽\n",
    "       nn.Conv2D(384, kernel_size = 3, padding = 1, activation = 'relu'),\n",
    "       nn.Conv2D(384, kernel_size = 3, padding = 1, activation = 'relu'), \n",
    "       nn.Conv2D(256, kernel_size = 3, padding = 1, activation = 'relu'),\n",
    "       nn.MaxPool2D(pool_size = 3, strides = 2),\n",
    "       # 这里全连接层的输出个数比LeNet中的大数倍，使用丢弃层来缓解过拟合\n",
    "       nn.Dense(4096, activation = 'relu'), nn.Dropout(0.5),\n",
    "       nn.Dense(4096, activation = 'relu'), nn.Dropout(0.5),\n",
    "       # 输出层。由于这里使用Fashion-MNIST，所以用类别数为10，而非论文中的1000\n",
    "       nn.Dense(10))"
   ]
  },
  {
   "cell_type": "code",
   "execution_count": 10,
   "metadata": {},
   "outputs": [
    {
     "name": "stdout",
     "output_type": "stream",
     "text": [
      "conv5 output shape:\t (1, 96, 54, 54)\n",
      "pool3 output shape:\t (1, 96, 26, 26)\n",
      "conv6 output shape:\t (1, 256, 26, 26)\n",
      "pool4 output shape:\t (1, 256, 12, 12)\n",
      "conv7 output shape:\t (1, 384, 12, 12)\n",
      "conv8 output shape:\t (1, 384, 12, 12)\n",
      "conv9 output shape:\t (1, 256, 12, 12)\n",
      "pool5 output shape:\t (1, 256, 5, 5)\n",
      "dense3 output shape:\t (1, 4096)\n",
      "dropout2 output shape:\t (1, 4096)\n",
      "dense4 output shape:\t (1, 4096)\n",
      "dropout3 output shape:\t (1, 4096)\n",
      "dense5 output shape:\t (1, 10)\n"
     ]
    }
   ],
   "source": [
    "X = nd.random.uniform(shape = (1, 1, 224, 224))\n",
    "net.initialize()\n",
    "for layer in net:\n",
    "    X = layer(X)\n",
    "    print(layer.name, 'output shape:\\t', X.shape)"
   ]
  },
  {
   "cell_type": "markdown",
   "metadata": {},
   "source": [
    "## 2.读取数据"
   ]
  },
  {
   "cell_type": "code",
   "execution_count": 16,
   "metadata": {},
   "outputs": [],
   "source": [
    "def load_data_fashion_mnist(batch_size, resize = None, root = os.path.join(\n",
    "        '~', '.mxnet', 'datasets', 'fashion-mnist')):\n",
    "    root = os.path.expanduser(root) # 展开用户路径'~'\n",
    "    transformer = []\n",
    "    if resize:\n",
    "        transformer += [gdata.vision.transforms.Resize(resize)]\n",
    "    transformer += [gdata.vision.transforms.ToTensor()]\n",
    "    transformer = gdata.vision.transforms.Compose(transformer)\n",
    "    mnist_train = gdata.vision.FashionMNIST(root = root, train = True)\n",
    "    mnist_test = gdata.vision.FashionMNIST(root = root, train = False)\n",
    "    num_workers = 0 if sys.platform.startswith('win32') else 4\n",
    "    train_iter = gdata.DataLoader(\n",
    "                mnist_train.transform_first(transformer), batch_size, shuffle = True,\n",
    "                num_workers = num_workers)\n",
    "    test_iter = gdata.DataLoader(\n",
    "                mnist_test.transform_first(transformer), batch_size, shuffle = False,\n",
    "                num_workers = num_workers)\n",
    "    return train_iter, test_iter"
   ]
  },
  {
   "cell_type": "code",
   "execution_count": 17,
   "metadata": {},
   "outputs": [
    {
     "data": {
      "text/plain": [
       "(<mxnet.gluon.data.dataloader.DataLoader at 0x10b916fd0>,\n",
       " <mxnet.gluon.data.dataloader.DataLoader at 0x10b908d30>)"
      ]
     },
     "execution_count": 17,
     "metadata": {},
     "output_type": "execute_result"
    }
   ],
   "source": [
    "batch_size = 128\n",
    "train_iter, test_iter = load_data_fashion_mnist(batch_size, resize = 224)\n",
    "train_iter, test_iter"
   ]
  },
  {
   "cell_type": "markdown",
   "metadata": {},
   "source": [
    "## 3.训练"
   ]
  },
  {
   "cell_type": "code",
   "execution_count": null,
   "metadata": {},
   "outputs": [
    {
     "name": "stdout",
     "output_type": "stream",
     "text": [
      "training on cpu(0)\n"
     ]
    }
   ],
   "source": [
    "lr, num_epochs, ctx = 0.01, 5, gb.try_gpu()\n",
    "net.initialize(force_reinit = True, ctx = ctx, init = init.Xavier())\n",
    "trainer = gluon.Trainer(net.collect_params(), 'sgd', {'learning_rate': lr})\n",
    "gb.train_ch5(net, train_iter, test_iter, batch_size, trainer, ctx, num_epochs)"
   ]
  },
  {
   "cell_type": "code",
   "execution_count": null,
   "metadata": {},
   "outputs": [],
   "source": []
  }
 ],
 "metadata": {
  "kernelspec": {
   "display_name": "Python 3",
   "language": "python",
   "name": "python3"
  },
  "language_info": {
   "codemirror_mode": {
    "name": "ipython",
    "version": 3
   },
   "file_extension": ".py",
   "mimetype": "text/x-python",
   "name": "python",
   "nbconvert_exporter": "python",
   "pygments_lexer": "ipython3",
   "version": "3.6.8"
  }
 },
 "nbformat": 4,
 "nbformat_minor": 2
}
